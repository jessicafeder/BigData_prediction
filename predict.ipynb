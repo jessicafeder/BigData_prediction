{
 "metadata": {
  "language_info": {
   "codemirror_mode": {
    "name": "ipython",
    "version": 3
   },
   "file_extension": ".py",
   "mimetype": "text/x-python",
   "name": "python",
   "nbconvert_exporter": "python",
   "pygments_lexer": "ipython3",
   "version": "3.8.5"
  },
  "orig_nbformat": 2,
  "kernelspec": {
   "name": "python385jvsc74a57bd02efabeff3d88b4fed4541d07ce028a3ba12f36779da6a6ecd8c4c78056155e5c",
   "display_name": "Python 3.8.5 64-bit ('base': conda)"
  }
 },
 "nbformat": 4,
 "nbformat_minor": 2,
 "cells": [
  {
   "cell_type": "code",
   "execution_count": 1,
   "metadata": {},
   "outputs": [],
   "source": [
    "import sklearn\n",
    "import pandas as pd\n",
    "import math\n",
    "\n",
    "from sklearn.feature_extraction import DictVectorizer\n",
    "from sklearn.model_selection import train_test_split\n",
    "from sklearn.linear_model import LogisticRegression\n",
    "from sklearn.tree import DecisionTreeClassifier"
   ]
  },
  {
   "cell_type": "code",
   "execution_count": 2,
   "metadata": {},
   "outputs": [],
   "source": [
    "class Entry:\n",
    "    def __init__(self, **kwargs):\n",
    "        self.__dict__ = kwargs"
   ]
  },
  {
   "cell_type": "code",
   "execution_count": 3,
   "metadata": {},
   "outputs": [],
   "source": [
    "df = pd.read_csv('data/shifted_train.csv', nrows=1000000)"
   ]
  },
  {
   "cell_type": "code",
   "execution_count": 4,
   "metadata": {},
   "outputs": [],
   "source": [
    "u_ids = df.user_id.values.tolist()\n",
    "c_ids = df.content_id.values.tolist()\n",
    "tc_ids = df.task_container_id.values.tolist()\n",
    "acs = df.answered_correctly.values.tolist()\n",
    "ets = df.elapsed_time.values.tolist()\n",
    "hes = df.had_explanation.values.tolist()\n",
    "\n",
    "entries = []\n",
    "for i in range(len(df)):\n",
    "    entries.append(Entry(\n",
    "        user_id=u_ids[i],\n",
    "        content_id=c_ids[i],\n",
    "        task_container_id=tc_ids[i],\n",
    "        answered_correctly=True if acs[i] == 1 else False,\n",
    "        elapsed_time=0.0 if math.isnan(ets[i]) else ets[i],\n",
    "        had_explanation=False if math.isnan(hes[i]) else True if hes[i] == 1.0 else False\n",
    "    ))"
   ]
  },
  {
   "cell_type": "code",
   "execution_count": 5,
   "metadata": {},
   "outputs": [],
   "source": [
    "training_data, test_data = train_test_split(entries, test_size=0.3, random_state=42)"
   ]
  },
  {
   "cell_type": "code",
   "execution_count": 6,
   "metadata": {},
   "outputs": [
    {
     "output_type": "stream",
     "name": "stdout",
     "text": [
      "training_data count: 700000\ntest_data count: 300000\n"
     ]
    }
   ],
   "source": [
    "print(f'training_data count: {len(training_data)}')\n",
    "print(f'test_data count: {len(test_data)}')"
   ]
  },
  {
   "cell_type": "code",
   "execution_count": 7,
   "metadata": {},
   "outputs": [],
   "source": [
    "# Split into X and Y\n",
    "train_x = [dict(\n",
    "    user_id=entry.user_id,\n",
    "    content_id=entry.content_id,\n",
    "    task_container_id=entry.task_container_id,\n",
    "    elapsed_time=entry.elapsed_time,\n",
    "    had_explanation=entry.had_explanation\n",
    ") for entry in training_data]\n",
    "\n",
    "train_y = [entry.answered_correctly for entry in training_data]\n",
    "\n",
    "test_x = [dict(\n",
    "    user_id=entry.user_id,\n",
    "    content_id=entry.content_id,\n",
    "    task_container_id=entry.task_container_id,\n",
    "    elapsed_time=entry.elapsed_time,\n",
    "    had_explanation=entry.had_explanation\n",
    ") for entry in test_data]\n",
    "\n",
    "test_y = [entry.answered_correctly for entry in test_data]"
   ]
  },
  {
   "cell_type": "code",
   "execution_count": 8,
   "metadata": {},
   "outputs": [
    {
     "output_type": "stream",
     "name": "stdout",
     "text": [
      "correct: 456034\nincorrect: 243966\n"
     ]
    }
   ],
   "source": [
    "print(f'correct: {train_y.count(True)}')\n",
    "print(f'incorrect: {train_y.count(False)}')"
   ]
  },
  {
   "cell_type": "code",
   "execution_count": 9,
   "metadata": {},
   "outputs": [],
   "source": [
    "vectorizer = DictVectorizer()\n",
    "train_x_vectors = vectorizer.fit_transform(train_x)\n",
    "test_x_vectors = vectorizer.transform(test_x)"
   ]
  },
  {
   "cell_type": "code",
   "execution_count": 10,
   "metadata": {},
   "outputs": [
    {
     "output_type": "execute_result",
     "data": {
      "text/plain": [
       "LogisticRegression(max_iter=1000)"
      ]
     },
     "metadata": {},
     "execution_count": 10
    }
   ],
   "source": [
    "log_clf = LogisticRegression(max_iter=1000)\n",
    "log_clf.fit(train_x_vectors, train_y)"
   ]
  },
  {
   "cell_type": "code",
   "execution_count": 11,
   "metadata": {},
   "outputs": [
    {
     "output_type": "execute_result",
     "data": {
      "text/plain": [
       "DecisionTreeClassifier()"
      ]
     },
     "metadata": {},
     "execution_count": 11
    }
   ],
   "source": [
    "dec_clf = DecisionTreeClassifier()\n",
    "dec_clf.fit(train_x_vectors, train_y)"
   ]
  },
  {
   "cell_type": "code",
   "execution_count": 12,
   "metadata": {},
   "outputs": [
    {
     "output_type": "stream",
     "name": "stdout",
     "text": [
      "LogisticRegression accuracy: 0.6511566666666667\nDecisionTree accuracy: 0.6052533333333333\n"
     ]
    }
   ],
   "source": [
    "print(f'LogisticRegression accuracy: {log_clf.score(test_x_vectors, test_y)}')\n",
    "print(f'DecisionTree accuracy: {dec_clf.score(test_x_vectors, test_y)}')"
   ]
  },
  {
   "cell_type": "code",
   "execution_count": 16,
   "metadata": {},
   "outputs": [
    {
     "output_type": "stream",
     "name": "stdout",
     "text": [
      "[ True]\n[[0.4154677 0.5845323]]\n"
     ]
    }
   ],
   "source": [
    "u_id = int(input('Enter user id: '))\n",
    "c_id = int(input('Enter content id: '))\n",
    "tc_id = int(input('Enter task container id: '))\n",
    "et = float(input('Enter elapsed time: '))\n",
    "he = bool(input('Enter whether the question had explanation or not (True|False): '))\n",
    "\n",
    "input_dict = dict(\n",
    "    user_id=u_id,\n",
    "    content_id=c_id,\n",
    "    task_container_id=tc_id,\n",
    "    elapsed_time=et,\n",
    "    had_explanation=he\n",
    ")\n",
    "input_vector = vectorizer.transform(input_dict)\n",
    "print(log_clf.predict(input_vector))\n",
    "print(log_clf.predict_proba(input_vector))"
   ]
  },
  {
   "cell_type": "code",
   "execution_count": 21,
   "metadata": {},
   "outputs": [
    {
     "output_type": "stream",
     "name": "stdout",
     "text": [
      "[ True] [[0.42585332 0.57414668]]\n[ True] [[0.42585326 0.57414674]]\n[ True] [[0.4258354 0.5741646]]\n[ True] [[0.42581745 0.57418255]]\n[ True] [[0.42579538 0.57420462]]\n[ True] [[0.42579485 0.57420515]]\n[ True] [[0.42576734 0.57423266]]\n[ True] [[0.42576467 0.57423533]]\n[ True] [[0.42568783 0.57431217]]\n[ True] [[0.4256866 0.5743134]]\n[ True] [[0.42563334 0.57436666]]\n[ True] [[0.42557611 0.57442389]]\n[ True] [[0.42555226 0.57444774]]\n[ True] [[0.42554769 0.57445231]]\n[ True] [[0.42553486 0.57446514]]\n[ True] [[0.42551276 0.57448724]]\n[ True] [[0.42550491 0.57449509]]\n[ True] [[0.4254875 0.5745125]]\n[ True] [[0.42530261 0.57469739]]\n[ True] [[0.4252997 0.5747003]]\n[ True] [[0.42523308 0.57476692]]\n[ True] [[0.42517655 0.57482345]]\n[ True] [[0.42512563 0.57487437]]\n[ True] [[0.42511673 0.57488327]]\n[ True] [[0.42497646 0.57502354]]\n[ True] [[0.42491837 0.57508163]]\n[ True] [[0.42491024 0.57508976]]\n[ True] [[0.42489445 0.57510555]]\n[ True] [[0.42489115 0.57510885]]\n[ True] [[0.42488134 0.57511866]]\n[ True] [[0.42486006 0.57513994]]\n[ True] [[0.42485747 0.57514253]]\n[ True] [[0.42478395 0.57521605]]\n[ True] [[0.42474288 0.57525712]]\n[ True] [[0.42473037 0.57526963]]\n[ True] [[0.42471916 0.57528084]]\n[ True] [[0.42466455 0.57533545]]\n[ True] [[0.42465537 0.57534463]]\n[ True] [[0.42465401 0.57534599]]\n[ True] [[0.42463943 0.57536057]]\n[ True] [[0.4244508 0.5755492]]\n[ True] [[0.42438614 0.57561386]]\n[ True] [[0.42435487 0.57564513]]\n[ True] [[0.42422767 0.57577233]]\n[ True] [[0.42422524 0.57577476]]\n[ True] [[0.42417645 0.57582355]]\n[ True] [[0.42416793 0.57583207]]\n[ True] [[0.42414444 0.57585556]]\n[ True] [[0.42408126 0.57591874]]\n[ True] [[0.42397738 0.57602262]]\n[ True] [[0.42390647 0.57609353]]\n[ True] [[0.42390075 0.57609925]]\n[ True] [[0.42387924 0.57612076]]\n[ True] [[0.42382931 0.57617069]]\n[ True] [[0.42382598 0.57617402]]\n[ True] [[0.42380172 0.57619828]]\n[ True] [[0.42368547 0.57631453]]\n[ True] [[0.42362768 0.57637232]]\n[ True] [[0.42359285 0.57640715]]\n[ True] [[0.42353086 0.57646914]]\n[ True] [[0.42343758 0.57656242]]\n[ True] [[0.42342454 0.57657546]]\n[ True] [[0.42341904 0.57658096]]\n[ True] [[0.4234094 0.5765906]]\n[ True] [[0.42337426 0.57662574]]\n[ True] [[0.42337099 0.57662901]]\n[ True] [[0.42336255 0.57663745]]\n[ True] [[0.42334589 0.57665411]]\n[ True] [[0.42332772 0.57667228]]\n[ True] [[0.42329756 0.57670244]]\n[ True] [[0.42328624 0.57671376]]\n[ True] [[0.42325662 0.57674338]]\n[ True] [[0.42325107 0.57674893]]\n[ True] [[0.42323686 0.57676314]]\n[ True] [[0.42323629 0.57676371]]\n[ True] [[0.42323083 0.57676917]]\n[ True] [[0.42323027 0.57676973]]\n[ True] [[0.42313094 0.57686906]]\n[ True] [[0.4231089 0.5768911]]\n[ True] [[0.42307739 0.57692261]]\n[ True] [[0.4230765 0.5769235]]\n[ True] [[0.42306246 0.57693754]]\n[ True] [[0.42297876 0.57702124]]\n[ True] [[0.42294663 0.57705337]]\n[ True] [[0.42287185 0.57712815]]\n[ True] [[0.42283685 0.57716315]]\n[ True] [[0.42282812 0.57717188]]\n[ True] [[0.42279322 0.57720678]]\n[ True] [[0.42274153 0.57725847]]\n[ True] [[0.42273143 0.57726857]]\n[ True] [[0.42266248 0.57733752]]\n[ True] [[0.42262267 0.57737733]]\n[ True] [[0.42259813 0.57740187]]\n[ True] [[0.42258633 0.57741367]]\n[ True] [[0.42247439 0.57752561]]\n[ True] [[0.42239316 0.57760684]]\n[ True] [[0.42238117 0.57761883]]\n[ True] [[0.42236164 0.57763836]]\n[ True] [[0.42223832 0.57776168]]\n[ True] [[0.42219655 0.57780345]]\n[ True] [[0.42218997 0.57781003]]\n[ True] [[0.42193407 0.57806593]]\n[ True] [[0.42191385 0.57808615]]\n[ True] [[0.42189782 0.57810218]]\n[ True] [[0.42188529 0.57811471]]\n[ True] [[0.42182203 0.57817797]]\n[ True] [[0.421801 0.578199]]\n[ True] [[0.42168325 0.57831675]]\n[ True] [[0.4216614 0.5783386]]\n[ True] [[0.42151702 0.57848298]]\n[ True] [[0.42148154 0.57851846]]\n[ True] [[0.42143347 0.57856653]]\n[ True] [[0.42143081 0.57856919]]\n[ True] [[0.421408 0.578592]]\n[ True] [[0.42136152 0.57863848]]\n[ True] [[0.42129124 0.57870876]]\n[ True] [[0.42124139 0.57875861]]\n[ True] [[0.42118473 0.57881527]]\n[ True] [[0.42109234 0.57890766]]\n[ True] [[0.4210769 0.5789231]]\n[ True] [[0.42100755 0.57899245]]\n[ True] [[0.42100335 0.57899665]]\n[ True] [[0.42099094 0.57900906]]\n[ True] [[0.42084405 0.57915595]]\n[ True] [[0.42081415 0.57918585]]\n[ True] [[0.42078588 0.57921412]]\n[ True] [[0.42075282 0.57924718]]\n[ True] [[0.42073662 0.57926338]]\n[ True] [[0.42069469 0.57930531]]\n[ True] [[0.42064132 0.57935868]]\n[ True] [[0.4205064 0.5794936]]\n[ True] [[0.42050537 0.57949463]]\n[ True] [[0.42041012 0.57958988]]\n[ True] [[0.42038415 0.57961585]]\n[ True] [[0.42036705 0.57963295]]\n[ True] [[0.42036107 0.57963893]]\n[ True] [[0.42031475 0.57968525]]\n[ True] [[0.42025419 0.57974581]]\n[ True] [[0.42016442 0.57983558]]\n[ True] [[0.42015034 0.57984966]]\n[ True] [[0.42015013 0.57984987]]\n[ True] [[0.4201456 0.5798544]]\n[ True] [[0.42013093 0.57986907]]\n[ True] [[0.4200149 0.5799851]]\n[ True] [[0.42001359 0.57998641]]\n[ True] [[0.41992249 0.58007751]]\n[ True] [[0.41973438 0.58026562]]\n[ True] [[0.41972912 0.58027088]]\n[ True] [[0.41970662 0.58029338]]\n[ True] [[0.41970592 0.58029408]]\n[ True] [[0.41969203 0.58030797]]\n[ True] [[0.41958967 0.58041033]]\n[ True] [[0.41950333 0.58049667]]\n[ True] [[0.41949722 0.58050278]]\n[ True] [[0.41946671 0.58053329]]\n[ True] [[0.41937933 0.58062067]]\n[ True] [[0.41922456 0.58077544]]\n[ True] [[0.41916849 0.58083151]]\n[ True] [[0.41915244 0.58084756]]\n[ True] [[0.41910229 0.58089771]]\n[ True] [[0.41909919 0.58090081]]\n[ True] [[0.41906403 0.58093597]]\n[ True] [[0.41906214 0.58093786]]\n[ True] [[0.41906052 0.58093948]]\n[ True] [[0.41904789 0.58095211]]\n[ True] [[0.41894303 0.58105697]]\n[ True] [[0.41889451 0.58110549]]\n[ True] [[0.41886875 0.58113125]]\n[ True] [[0.41881369 0.58118631]]\n[ True] [[0.41873415 0.58126585]]\n[ True] [[0.41871632 0.58128368]]\n[ True] [[0.41868191 0.58131809]]\n[ True] [[0.4186785 0.5813215]]\n[ True] [[0.41865052 0.58134948]]\n[ True] [[0.41860355 0.58139645]]\n[ True] [[0.41856898 0.58143102]]\n[ True] [[0.41848753 0.58151247]]\n"
     ]
    }
   ],
   "source": [
    "ids = [115, 124, 2746, 5382, 8623, 8701, 12741, 13134, 24418, 24600, 32421, 40828, 44331, 45001, 46886, 50132, 51285, 53842, 81002, 81429, 91216, 99521, 107002, 108310, 128919, 137455, 138650, 140969, 141455, 142896, 146023, 146403, 157207, 163243, 165081, 166728, 174754, 176102, 176303, 178445, 206168, 215672, 220268, 238966, 239323, 246496, 247749, 251201, 260489, 275762, 286187, 287029, 290191, 297533, 298022, 301590, 318683, 327181, 332303, 341420, 355138, 357056, 357865, 359283, 364452, 364932, 366174, 368624, 371296, 375732, 377398, 381754, 382571, 384661, 384745, 385548, 385630, 400241, 403483, 408119, 408250, 410315, 422628, 427355, 438357, 443506, 444790, 449925, 457531, 459017, 469162, 475020, 478631, 480368, 496840, 508795, 510560, 513434, 531584, 537732, 538701, 576369, 579346, 581706, 583550, 592864, 595960, 613296, 616513, 637773, 642997, 650076, 650467, 653826, 660672, 671022, 678363, 686708, 700316, 702591, 712805, 713424, 715253, 736891, 741296, 745460, 750330, 752718, 758895, 766758, 786638, 786789, 800824, 804652, 807172, 808053, 814879, 823804, 837033, 839109, 839139, 839808, 841970, 859071, 859265, 872693, 900423, 901198, 904515, 904619, 906666, 921758, 934487, 935388, 939887, 952772, 975595, 983864, 986231, 993627, 994085, 999270, 999548, 999788, 1001651, 1017117, 1024273, 1028074, 1036195, 1047929, 1050559, 1055635, 1056138, 1060266, 1067196, 1072296, 1084314]\n",
    "\n",
    "for id in ids:\n",
    "    input_dict = dict(\n",
    "        user_id=id,\n",
    "        content_id=6908,\n",
    "        task_container_id=14,\n",
    "        elapsed_time=16.0,\n",
    "        had_explanation=False\n",
    "    )\n",
    "    input_vector = vectorizer.transform(input_dict)\n",
    "    print(log_clf.predict(input_vector), log_clf.predict_proba(input_vector))"
   ]
  }
 ]
}