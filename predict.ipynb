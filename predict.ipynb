{
 "metadata": {
  "language_info": {
   "codemirror_mode": {
    "name": "ipython",
    "version": 3
   },
   "file_extension": ".py",
   "mimetype": "text/x-python",
   "name": "python",
   "nbconvert_exporter": "python",
   "pygments_lexer": "ipython3",
   "version": "3.8.5"
  },
  "orig_nbformat": 2,
  "kernelspec": {
   "name": "python385jvsc74a57bd02efabeff3d88b4fed4541d07ce028a3ba12f36779da6a6ecd8c4c78056155e5c",
   "display_name": "Python 3.8.5 64-bit ('base': conda)"
  }
 },
 "nbformat": 4,
 "nbformat_minor": 2,
 "cells": [
  {
   "cell_type": "code",
   "execution_count": 1,
   "metadata": {},
   "outputs": [],
   "source": [
    "import pandas as pd"
   ]
  },
  {
   "cell_type": "code",
   "execution_count": 2,
   "metadata": {},
   "outputs": [
    {
     "output_type": "execute_result",
     "data": {
      "text/plain": [
       "   row_id  timestamp  user_id  content_id  content_type_id  task_container_id  \\\n",
       "0       0          0      115        5692                0                  1   \n",
       "1       1      56943      115        5716                0                  2   \n",
       "2       2     118363      115         128                0                  0   \n",
       "3       3     131167      115        7860                0                  3   \n",
       "4       4     137965      115        7922                0                  4   \n",
       "\n",
       "   user_answer  answered_correctly  prior_question_elapsed_time  \\\n",
       "0            3                   1                          NaN   \n",
       "1            2                   1                      37000.0   \n",
       "2            0                   1                      55000.0   \n",
       "3            0                   1                      19000.0   \n",
       "4            1                   1                      11000.0   \n",
       "\n",
       "  prior_question_had_explanation  \n",
       "0                            NaN  \n",
       "1                          False  \n",
       "2                          False  \n",
       "3                          False  \n",
       "4                          False  "
      ],
      "text/html": "<div>\n<style scoped>\n    .dataframe tbody tr th:only-of-type {\n        vertical-align: middle;\n    }\n\n    .dataframe tbody tr th {\n        vertical-align: top;\n    }\n\n    .dataframe thead th {\n        text-align: right;\n    }\n</style>\n<table border=\"1\" class=\"dataframe\">\n  <thead>\n    <tr style=\"text-align: right;\">\n      <th></th>\n      <th>row_id</th>\n      <th>timestamp</th>\n      <th>user_id</th>\n      <th>content_id</th>\n      <th>content_type_id</th>\n      <th>task_container_id</th>\n      <th>user_answer</th>\n      <th>answered_correctly</th>\n      <th>prior_question_elapsed_time</th>\n      <th>prior_question_had_explanation</th>\n    </tr>\n  </thead>\n  <tbody>\n    <tr>\n      <th>0</th>\n      <td>0</td>\n      <td>0</td>\n      <td>115</td>\n      <td>5692</td>\n      <td>0</td>\n      <td>1</td>\n      <td>3</td>\n      <td>1</td>\n      <td>NaN</td>\n      <td>NaN</td>\n    </tr>\n    <tr>\n      <th>1</th>\n      <td>1</td>\n      <td>56943</td>\n      <td>115</td>\n      <td>5716</td>\n      <td>0</td>\n      <td>2</td>\n      <td>2</td>\n      <td>1</td>\n      <td>37000.0</td>\n      <td>False</td>\n    </tr>\n    <tr>\n      <th>2</th>\n      <td>2</td>\n      <td>118363</td>\n      <td>115</td>\n      <td>128</td>\n      <td>0</td>\n      <td>0</td>\n      <td>0</td>\n      <td>1</td>\n      <td>55000.0</td>\n      <td>False</td>\n    </tr>\n    <tr>\n      <th>3</th>\n      <td>3</td>\n      <td>131167</td>\n      <td>115</td>\n      <td>7860</td>\n      <td>0</td>\n      <td>3</td>\n      <td>0</td>\n      <td>1</td>\n      <td>19000.0</td>\n      <td>False</td>\n    </tr>\n    <tr>\n      <th>4</th>\n      <td>4</td>\n      <td>137965</td>\n      <td>115</td>\n      <td>7922</td>\n      <td>0</td>\n      <td>4</td>\n      <td>1</td>\n      <td>1</td>\n      <td>11000.0</td>\n      <td>False</td>\n    </tr>\n  </tbody>\n</table>\n</div>"
     },
     "metadata": {},
     "execution_count": 2
    }
   ],
   "source": [
    "lecture_df = pd.read_csv(\"data/lectures.csv\")\n",
    "question_df = pd.read_csv(\"data/questions.csv\")\n",
    "response_df = pd.read_csv(\"data/responses.csv\")\n",
    "train_df = pd.read_csv(\"data/short_train.csv\")\n",
    "\n",
    "train_df.head()"
   ]
  },
  {
   "source": [
    "### Split Train Data\n",
    "\n",
    "Split the train data on `content_type_id` (whether it was an exam or a lecture)"
   ],
   "cell_type": "markdown",
   "metadata": {}
  },
  {
   "cell_type": "code",
   "execution_count": 3,
   "metadata": {},
   "outputs": [],
   "source": [
    "train_exam_filter = train_df['content_type_id'] == 0\n",
    "train_lecture_filter = train_df['content_type_id'] == 1\n",
    "\n",
    "train_exams_df = train_df[train_exam_filter]\n",
    "train_lectures_df = train_df[train_lecture_filter]"
   ]
  },
  {
   "source": [
    "Print a report"
   ],
   "cell_type": "markdown",
   "metadata": {}
  },
  {
   "cell_type": "code",
   "execution_count": 4,
   "metadata": {},
   "outputs": [
    {
     "output_type": "stream",
     "name": "stdout",
     "text": [
      "Exams\n=====\nrow count: 343298\nuser count: 1215\n\nLectures\n========\nrow count: 6701\nuser count: 505\n"
     ]
    }
   ],
   "source": [
    "print('Exams', end='\\n=====\\n')\n",
    "print(f'row count: {len(train_exams_df)}')\n",
    "print(f'user count: {len(train_exams_df.groupby([\"user_id\"]))}')\n",
    "\n",
    "print()\n",
    "\n",
    "print('Lectures', end='\\n========\\n')\n",
    "print(f'row count: {len(train_lectures_df)}')\n",
    "print(f'user count: {len(train_lectures_df.groupby([\"user_id\"]))}')"
   ]
  },
  {
   "cell_type": "code",
   "execution_count": 8,
   "metadata": {},
   "outputs": [],
   "source": [
    "class User:\n",
    "    def __init__(self, user_id, timestamp, answered_correctly):\n",
    "        self.user_id = user_id\n",
    "        self.timestamp = timestamp\n",
    "        self.answered_correctly = answered_correctly\n",
    "        "
   ]
  },
  {
   "cell_type": "code",
   "execution_count": 47,
   "metadata": {},
   "outputs": [],
   "source": [
    "import json\n",
    "\n",
    "file_name = './data/short_train.csv'\n",
    "users = []\n",
    "with open(file_name, 'r', encoding=\"utf-8\") as in_file:\n",
    "    for i, line in enumerate(in_file):\n",
    "\n",
    "        # Skip headers\n",
    "        if i == 0:\n",
    "            continue\n",
    "\n",
    "        line = line.split(',')\n",
    "\n",
    "        # Skip lectures\n",
    "        if line[4] == '1':\n",
    "            continue\n",
    "\n",
    "        timestamp = int(line[1])\n",
    "        user_id = int(line[2])\n",
    "        answered_correctly = int(line[7]) == 1\n",
    "\n",
    "        users.append(User(user_id, timestamp, answered_correctly))\n",
    "\n",
    "\n"
   ]
  },
  {
   "cell_type": "code",
   "execution_count": 56,
   "metadata": {},
   "outputs": [
    {
     "output_type": "stream",
     "name": "stdout",
     "text": [
      "230009\n113289\n"
     ]
    }
   ],
   "source": [
    "from sklearn.model_selection import train_test_split\n",
    "\n",
    "training_data, test_data = train_test_split(users, test_size=0.33, random_state=42)\n",
    "\n",
    "print(len(training_data))\n",
    "print(len(test_data))"
   ]
  },
  {
   "cell_type": "code",
   "execution_count": 57,
   "metadata": {},
   "outputs": [],
   "source": [
    "train_x = [user.user_id for user in training_data]\n",
    "train_y = [user.timestamp for user in training_data]\n",
    "train_z = [user.answered_correctly for user in training_data]\n",
    "\n",
    "test_x = [user.user_id for user in test_data]\n",
    "test_y = [user.timestamp for user in test_data]\n",
    "test_z = [user.answered_correctly for user in test_data]"
   ]
  },
  {
   "cell_type": "code",
   "execution_count": 58,
   "metadata": {},
   "outputs": [
    {
     "output_type": "stream",
     "name": "stdout",
     "text": [
      "answered correctly: 153737\nanswered incorrectly: 76272\n"
     ]
    }
   ],
   "source": [
    "print(f'answered correctly: {train_z.count(True)}')\n",
    "print(f'answered incorrectly: {train_z.count(False)}')"
   ]
  },
  {
   "source": [
    "### Prediction\n",
    "Determine the best machine learning model"
   ],
   "cell_type": "markdown",
   "metadata": {}
  }
 ]
}