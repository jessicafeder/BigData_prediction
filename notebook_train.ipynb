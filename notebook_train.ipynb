{
 "metadata": {
  "language_info": {
   "codemirror_mode": {
    "name": "ipython",
    "version": 3
   },
   "file_extension": ".py",
   "mimetype": "text/x-python",
   "name": "python",
   "nbconvert_exporter": "python",
   "pygments_lexer": "ipython3",
   "version": "3.8.5"
  },
  "orig_nbformat": 2,
  "kernelspec": {
   "name": "python385jvsc74a57bd02efabeff3d88b4fed4541d07ce028a3ba12f36779da6a6ecd8c4c78056155e5c",
   "display_name": "Python 3.8.5 64-bit ('base': conda)"
  }
 },
 "nbformat": 4,
 "nbformat_minor": 2,
 "cells": [
  {
   "cell_type": "code",
   "execution_count": 1,
   "metadata": {},
   "outputs": [],
   "source": [
    "lines = []\n",
    "with open('./data/train.csv', 'r') as file:\n",
    "    for i,line in enumerate(file):\n",
    "        if i < 350000:\n",
    "            lines.append(line)\n",
    "        else:\n",
    "            break\n",
    "with open('./data/short_train.csv', 'w') as file:\n",
    "    for line in lines:\n",
    "        file.write(line)\n",
    "\n"
   ]
  },
  {
   "cell_type": "code",
   "execution_count": 2,
   "metadata": {},
   "outputs": [],
   "source": [
    "import pandas as pd\n",
    "file_name = \"data/short_train.csv\"\n",
    "file_name_output = \"short_train_no_duplicates.csv\"\n",
    "\n",
    "df = pd.read_csv(file_name)\n",
    "\n",
    "# Notes:\n",
    "# - the `subset=None` means that every column is used \n",
    "#    to determine if two rows are different; to change that specify\n",
    "#    the columns as an array\n",
    "# - the `inplace=True` means that the data structure is changed and\n",
    "#   the duplicate rows are gone  \n",
    "df.drop_duplicates(subset=None, inplace=True)\n",
    "\n",
    "# Write the results to a different file\n",
    "df.to_csv(file_name_output, index=False)\n"
   ]
  },
  {
   "cell_type": "code",
   "execution_count": 5,
   "metadata": {},
   "outputs": [],
   "source": [
    "import pandas as pd\n",
    "data = pd.read_csv('data/short_train.csv')\n",
    "data.drop_duplicates(subset=None, inplace = True) \n",
    "data.to_csv('jiaiuoehuiog94.csv')\n"
   ]
  }
 ]
}