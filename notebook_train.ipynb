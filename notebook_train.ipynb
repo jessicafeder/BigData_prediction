{
 "metadata": {
  "language_info": {
   "codemirror_mode": {
    "name": "ipython",
    "version": 3
   },
   "file_extension": ".py",
   "mimetype": "text/x-python",
   "name": "python",
   "nbconvert_exporter": "python",
   "pygments_lexer": "ipython3",
   "version": "3.8.5"
  },
  "orig_nbformat": 2,
  "kernelspec": {
   "name": "python385jvsc74a57bd02efabeff3d88b4fed4541d07ce028a3ba12f36779da6a6ecd8c4c78056155e5c",
   "display_name": "Python 3.8.5 64-bit ('base': conda)"
  }
 },
 "nbformat": 4,
 "nbformat_minor": 2,
 "cells": [
  {
   "cell_type": "code",
   "execution_count": 1,
   "metadata": {},
   "outputs": [],
   "source": [
    "lines = []\n",
    "with open('./data/train.csv', 'r') as file:\n",
    "    for i,line in enumerate(file):\n",
    "        if i < 350000:\n",
    "            lines.append(line)\n",
    "        else:\n",
    "            break\n",
    "with open('./data/short_train.csv', 'w') as file:\n",
    "    for line in lines:\n",
    "        file.write(line)\n",
    "\n"
   ]
  },
  {
   "cell_type": "code",
   "execution_count": 2,
   "metadata": {},
   "outputs": [],
   "source": [
    "import pandas as pd\n",
    "file_name = \"data/short_train.csv\"\n",
    "file_name_output = \"short_train_no_duplicates.csv\"\n",
    "\n",
    "df = pd.read_csv(file_name)\n",
    "\n",
    "# Notes:\n",
    "# - the `subset=None` means that every column is used \n",
    "#    to determine if two rows are different; to change that specify\n",
    "#    the columns as an array\n",
    "# - the `inplace=True` means that the data structure is changed and\n",
    "#   the duplicate rows are gone  \n",
    "df.drop_duplicates(subset=None, inplace=True)\n",
    "\n",
    "# Write the results to a different file\n",
    "df.to_csv(file_name_output, index=False)\n"
   ]
  },
  {
   "cell_type": "code",
   "execution_count": 5,
   "metadata": {},
   "outputs": [],
   "source": [
    "import pandas as pd\n",
    "data = pd.read_csv('data/short_train.csv')\n",
    "data.drop_duplicates(subset=None, inplace = True) \n",
    "data.to_csv('jiaiuoehuiog94.csv')\n"
   ]
  },
  {
   "cell_type": "code",
   "execution_count": 1,
   "metadata": {},
   "outputs": [],
   "source": [
    "class User:\n",
    "    def __init__(self, id, bundles):\n",
    "        self.id = id\n",
    "        self.bundles = bundles\n",
    "\n",
    "class QuestionBundle:\n",
    "    def __init__(self, id, questions):\n",
    "        self.id = id\n",
    "        self.questions = questions\n",
    "\n",
    "class Question:\n",
    "    def __init__(self, id, answered_correctly, elapsed_time, had_explanation):\n",
    "        self.id = id\n",
    "        self.answered_correctly = answered_correctly\n",
    "        self.elapsed_time = elapsed_time\n",
    "        self.had_explanation = had_explanation\n"
   ]
  },
  {
   "source": [
    "Map JSON to python object"
   ],
   "cell_type": "markdown",
   "metadata": {}
  },
  {
   "cell_type": "code",
   "execution_count": 2,
   "metadata": {
    "tags": []
   },
   "outputs": [],
   "source": [
    "import json\n",
    "\n",
    "#path = 'data/slim_train.json'\n",
    "path = 'data/train.json'\n",
    "users = []\n",
    "with open(path, 'r') as file:\n",
    "    for i, line in enumerate(file):\n",
    "        j_object = json.loads(line)\n",
    "        \n",
    "        users.append(User(\n",
    "            id=j_object['Id'],\n",
    "            bundles=[QuestionBundle(\n",
    "                id=bundle['Id'],\n",
    "                questions=[Question(\n",
    "                    id=question['Id'],\n",
    "                    answered_correctly=question['AnsweredCorrectly'],\n",
    "                    elapsed_time=question['ElapsedTime'],\n",
    "                    had_explanation=question['HadExplanation']\n",
    "                ) for question in bundle['Questions']]\n",
    "            ) for bundle in j_object['Bundles']]\n",
    "        ))"
   ]
  },
  {
   "source": [
    "Shift `prior_question` columns upwards for each user"
   ],
   "cell_type": "markdown",
   "metadata": {}
  },
  {
   "cell_type": "code",
   "execution_count": 3,
   "metadata": {},
   "outputs": [],
   "source": [
    "for user in users:\n",
    "    bundles = user.bundles\n",
    "\n",
    "    for i in range(len(bundles) - 1):\n",
    "        current_bundle = bundles[i]\n",
    "        current_questions = current_bundle.questions\n",
    "\n",
    "        next_bundle = bundles[i + 1]\n",
    "        next_questions = next_bundle.questions\n",
    "\n",
    "        for k in range(len(current_questions)):\n",
    "            current_questions[k].elapsed_time = next_questions[0].elapsed_time\n",
    "            current_questions[k].had_explanation = next_questions[0].had_explanation\n",
    "\n",
    "    last_index = len(bundles) - 1\n",
    "    last_questions = bundles[last_index].questions\n",
    "    for i in range(len(last_questions)):\n",
    "        last_questions[i].elapsed_time = 0.0\n",
    "        last_questions[i].had_explanation = None\n",
    "\n"
   ]
  },
  {
   "cell_type": "code",
   "execution_count": 27,
   "metadata": {},
   "outputs": [
    {
     "output_type": "stream",
     "name": "stdout",
     "text": [
      "[\n {\n  \"id\": 115,\n  \"bundles\": [\n   {\n    \"id\": 1,\n    \"questions\": [\n     {\n      \"id\": 5692,\n      \"answered_correctly\": true,\n      \"elapsed_time\": 37,\n      \"had_explanation\": false\n     }\n    ]\n   },\n   {\n    \"id\": 2,\n    \"questions\": [\n     {\n      \"id\": 5716,\n      \"answered_correctly\": true,\n      \"elapsed_time\": 55,\n      \"had_explanation\": false\n     }\n    ]\n   },\n   {\n    \"id\": 0,\n    \"questions\": [\n     {\n      \"id\": 128,\n      \"answered_correctly\": true,\n      \"elapsed_time\": 19,\n      \"had_explanation\": false\n     }\n    ]\n   },\n   {\n    \"id\": 3,\n    \"questions\": [\n     {\n      \"id\": 7860,\n      \"answered_correctly\": true,\n      \"elapsed_time\": 11,\n      \"had_explanation\": false\n     }\n    ]\n   },\n   {\n    \"id\": 4,\n    \"questions\": [\n     {\n      \"id\": 7922,\n      \"answered_correctly\": true,\n      \"elapsed_time\": 5,\n      \"had_explanation\": false\n     }\n    ]\n   },\n   {\n    \"id\": 5,\n    \"questions\": [\n     {\n      \"id\": 156,\n      \"answered_correctly\": true,\n      \"elapsed_time\": 17,\n      \"had_explanation\": false\n     }\n    ]\n   },\n   {\n    \"id\": 6,\n    \"questions\": [\n     {\n      \"id\": 51,\n      \"answered_correctly\": true,\n      \"elapsed_time\": 17,\n      \"had_explanation\": false\n     }\n    ]\n   },\n   {\n    \"id\": 7,\n    \"questions\": [\n     {\n      \"id\": 50,\n      \"answered_correctly\": true,\n      \"elapsed_time\": 16,\n      \"had_explanation\": false\n     }\n    ]\n   },\n   {\n    \"id\": 8,\n    \"questions\": [\n     {\n      \"id\": 7896,\n      \"answered_correctly\": true,\n      \"elapsed_time\": 16,\n      \"had_explanation\": false\n     }\n    ]\n   },\n   {\n    \"id\": 9,\n    \"questions\": [\n     {\n      \"id\": 7863,\n      \"answered_correctly\": true,\n      \"elapsed_time\": 17,\n      \"had_explanation\": false\n     }\n    ]\n   },\n   {\n    \"id\": 10,\n    \"questions\": [\n     {\n      \"id\": 152,\n      \"answered_correctly\": false,\n      \"elapsed_time\": 22,\n      \"had_explanation\": false\n     }\n    ]\n   },\n   {\n    \"id\": 11,\n    \"questions\": [\n     {\n      \"id\": 104,\n      \"answered_correctly\": false,\n      \"elapsed_time\": 23,\n      \"had_explanation\": false\n     }\n    ]\n   },\n   {\n    \"id\": 12,\n    \"questions\": [\n     {\n      \"id\": 108,\n      \"answered_correctly\": false,\n      \"elapsed_time\": 21,\n      \"had_explanation\": false\n     }\n    ]\n   },\n   {\n    \"id\": 13,\n    \"questions\": [\n     {\n      \"id\": 7900,\n      \"answered_correctly\": true,\n      \"elapsed_time\": 24,\n      \"had_explanation\": false\n     }\n    ]\n   },\n   {\n    \"id\": 14,\n    \"questions\": [\n     {\n      \"id\": 7901,\n      \"answered_correctly\": true,\n      \"elapsed_time\": 22,\n      \"had_explanation\": false\n     }\n    ]\n   },\n   {\n    \"id\": 15,\n    \"questions\": [\n     {\n      \"id\": 7971,\n      \"answered_correctly\": true,\n      \"elapsed_time\": 21,\n      \"had_explanation\": false\n     }\n    ]\n   },\n   {\n    \"id\": 16,\n    \"questions\": [\n     {\n      \"id\": 25,\n      \"answered_correctly\": true,\n      \"elapsed_time\": 20,\n      \"had_explanation\": false\n     }\n    ]\n   },\n   {\n    \"id\": 17,\n    \"questions\": [\n     {\n      \"id\": 183,\n      \"answered_correctly\": false,\n      \"elapsed_time\": 18,\n      \"had_explanation\": false\n     }\n    ]\n   },\n   {\n    \"id\": 18,\n    \"questions\": [\n     {\n      \"id\": 7926,\n      \"answered_correctly\": true,\n      \"elapsed_time\": 17,\n      \"had_explanation\": false\n     }\n    ]\n   },\n   {\n    \"id\": 19,\n    \"questions\": [\n     {\n      \"id\": 7927,\n      \"answered_correctly\": true,\n      \"elapsed_time\": 29,\n      \"had_explanation\": false\n     }\n    ]\n   },\n   {\n    \"id\": 20,\n    \"questions\": [\n     {\n      \"id\": 4,\n      \"answered_correctly\": false,\n      \"elapsed_time\": 20,\n      \"had_explanation\": false\n     }\n    ]\n   },\n   {\n    \"id\": 21,\n    \"questions\": [\n     {\n      \"id\": 7984,\n      \"answered_correctly\": false,\n      \"elapsed_time\": 19,\n      \"had_explanation\": false\n     }\n    ]\n   },\n   {\n    \"id\": 22,\n    \"questions\": [\n     {\n      \"id\": 45,\n      \"answered_correctly\": false,\n      \"elapsed_time\": 21,\n      \"had_explanation\": false\n     }\n    ]\n   },\n   {\n    \"id\": 23,\n    \"questions\": [\n     {\n      \"id\": 185,\n      \"answered_correctly\": false,\n      \"elapsed_time\": 22,\n      \"had_explanation\": false\n     }\n    ]\n   },\n   {\n    \"id\": 24,\n    \"questions\": [\n     {\n      \"id\": 55,\n      \"answered_correctly\": true,\n      \"elapsed_time\": 16,\n      \"had_explanation\": false\n     }\n    ]\n   },\n   {\n    \"id\": 25,\n    \"questions\": [\n     {\n      \"id\": 7876,\n      \"answered_correctly\": true,\n      \"elapsed_time\": 20,\n      \"had_explanation\": false\n     }\n    ]\n   },\n   {\n    \"id\": 26,\n    \"questions\": [\n     {\n      \"id\": 6,\n      \"answered_correctly\": true,\n      \"elapsed_time\": 22,\n      \"had_explanation\": false\n     }\n    ]\n   },\n   {\n    \"id\": 27,\n    \"questions\": [\n     {\n      \"id\": 172,\n      \"answered_correctly\": true,\n      \"elapsed_time\": 22,\n      \"had_explanation\": false\n     }\n    ]\n   },\n   {\n    \"id\": 28,\n    \"questions\": [\n     {\n      \"id\": 7898,\n      \"answered_correctly\": true,\n      \"elapsed_time\": 23,\n      \"had_explanation\": false\n     }\n    ]\n   },\n   {\n    \"id\": 29,\n    \"questions\": [\n     {\n      \"id\": 175,\n      \"answered_correctly\": false,\n      \"elapsed_time\": 20,\n      \"had_explanation\": false\n     }\n    ]\n   },\n   {\n    \"id\": 30,\n    \"questions\": [\n     {\n      \"id\": 100,\n      \"answered_correctly\": true,\n      \"elapsed_time\": 15,\n      \"had_explanation\": false\n     }\n    ]\n   },\n   {\n    \"id\": 31,\n    \"questions\": [\n     {\n      \"id\": 7859,\n      \"answered_correctly\": false,\n      \"elapsed_time\": 20,\n      \"had_explanation\": false\n     }\n    ]\n   },\n   {\n    \"id\": 32,\n    \"questions\": [\n     {\n      \"id\": 57,\n      \"answered_correctly\": true,\n      \"elapsed_time\": 20,\n      \"had_explanation\": true\n     }\n    ]\n   },\n   {\n    \"id\": 33,\n    \"questions\": [\n     {\n      \"id\": 7948,\n      \"answered_correctly\": true,\n      \"elapsed_time\": 22,\n      \"had_explanation\": true\n     }\n    ]\n   },\n   {\n    \"id\": 34,\n    \"questions\": [\n     {\n      \"id\": 151,\n      \"answered_correctly\": true,\n      \"elapsed_time\": 19,\n      \"had_explanation\": true\n     }\n    ]\n   },\n   {\n    \"id\": 35,\n    \"questions\": [\n     {\n      \"id\": 167,\n      \"answered_correctly\": true,\n      \"elapsed_time\": 17,\n      \"had_explanation\": true\n     }\n    ]\n   },\n   {\n    \"id\": 36,\n    \"questions\": [\n     {\n      \"id\": 7897,\n      \"answered_correctly\": false,\n      \"elapsed_time\": 20,\n      \"had_explanation\": true\n     }\n    ]\n   },\n   {\n    \"id\": 37,\n    \"questions\": [\n     {\n      \"id\": 7882,\n      \"answered_correctly\": true,\n      \"elapsed_time\": 17,\n      \"had_explanation\": true\n     }\n    ]\n   },\n   {\n    \"id\": 38,\n    \"questions\": [\n     {\n      \"id\": 7962,\n      \"answered_correctly\": true,\n      \"elapsed_time\": 21,\n      \"had_explanation\": false\n     }\n    ]\n   },\n   {\n    \"id\": 39,\n    \"questions\": [\n     {\n      \"id\": 1278,\n      \"answered_correctly\": true,\n      \"elapsed_time\": 17,\n      \"had_explanation\": false\n     }\n    ]\n   },\n   {\n    \"id\": 40,\n    \"questions\": [\n     {\n      \"id\": 2065,\n      \"answered_correctly\": true,\n      \"elapsed_time\": 14.333,\n      \"had_explanation\": false\n     },\n     {\n      \"id\": 2064,\n      \"answered_correctly\": true,\n      \"elapsed_time\": 14.333,\n      \"had_explanation\": false\n     },\n     {\n      \"id\": 2063,\n      \"answered_correctly\": false,\n      \"elapsed_time\": 14.333,\n      \"had_explanation\": false\n     }\n    ]\n   },\n   {\n    \"id\": 41,\n    \"questions\": [\n     {\n      \"id\": 3363,\n      \"answered_correctly\": false,\n      \"elapsed_time\": 0.0,\n      \"had_explanation\": null\n     },\n     {\n      \"id\": 3365,\n      \"answered_correctly\": false,\n      \"elapsed_time\": 0.0,\n      \"had_explanation\": null\n     },\n     {\n      \"id\": 3364,\n      \"answered_correctly\": true,\n      \"elapsed_time\": 0.0,\n      \"had_explanation\": null\n     }\n    ]\n   }\n  ]\n },\n {\n  \"id\": 124,\n  \"bundles\": [\n   {\n    \"id\": 0,\n    \"questions\": [\n     {\n      \"id\": 7900,\n      \"answered_correctly\": true,\n      \"elapsed_time\": 26,\n      \"had_explanation\": false\n     }\n    ]\n   },\n   {\n    \"id\": 1,\n    \"questions\": [\n     {\n      \"id\": 7876,\n      \"answered_correctly\": false,\n      \"elapsed_time\": 29,\n      \"had_explanation\": false\n     }\n    ]\n   },\n   {\n    \"id\": 2,\n    \"questions\": [\n     {\n      \"id\": 175,\n      \"answered_correctly\": true,\n      \"elapsed_time\": 26,\n      \"had_explanation\": false\n     }\n    ]\n   },\n   {\n    \"id\": 3,\n    \"questions\": [\n     {\n      \"id\": 1278,\n      \"answered_correctly\": false,\n      \"elapsed_time\": 18,\n      \"had_explanation\": false\n     }\n    ]\n   },\n   {\n    \"id\": 4,\n    \"questions\": [\n     {\n      \"id\": 2064,\n      \"answered_correctly\": false,\n      \"elapsed_time\": 33.333,\n      \"had_explanation\": false\n     },\n     {\n      \"id\": 2063,\n      \"answered_correctly\": false,\n      \"elapsed_time\": 33.333,\n      \"had_explanation\": false\n     },\n     {\n      \"id\": 2065,\n      \"answered_correctly\": true,\n      \"elapsed_time\": 33.333,\n      \"had_explanation\": false\n     }\n    ]\n   },\n   {\n    \"id\": 5,\n    \"questions\": [\n     {\n      \"id\": 3364,\n      \"answered_correctly\": false,\n      \"elapsed_time\": 21,\n      \"had_explanation\": false\n     },\n     {\n      \"id\": 3365,\n      \"answered_correctly\": false,\n      \"elapsed_time\": 21,\n      \"had_explanation\": false\n     },\n     {\n      \"id\": 3363,\n      \"answered_correctly\": false,\n      \"elapsed_time\": 21,\n      \"had_explanation\": false\n     }\n    ]\n   },\n   {\n    \"id\": 6,\n    \"questions\": [\n     {\n      \"id\": 2948,\n      \"answered_correctly\": false,\n      \"elapsed_time\": 21.666,\n      \"had_explanation\": false\n     },\n     {\n      \"id\": 2947,\n      \"answered_correctly\": true,\n      \"elapsed_time\": 21.666,\n      \"had_explanation\": false\n     },\n     {\n      \"id\": 2946,\n      \"answered_correctly\": false,\n      \"elapsed_time\": 21.666,\n      \"had_explanation\": false\n     }\n    ]\n   },\n   {\n    \"id\": 7,\n    \"questions\": [\n     {\n      \"id\": 2595,\n      \"answered_correctly\": true,\n      \"elapsed_time\": 15,\n      \"had_explanation\": false\n     },\n     {\n      \"id\": 2593,\n      \"answered_correctly\": false,\n      \"elapsed_time\": 15,\n      \"had_explanation\": false\n     },\n     {\n      \"id\": 2594,\n      \"answered_correctly\": false,\n      \"elapsed_time\": 15,\n      \"had_explanation\": false\n     }\n    ]\n   },\n   {\n    \"id\": 8,\n    \"questions\": [\n     {\n      \"id\": 4492,\n      \"answered_correctly\": false,\n      \"elapsed_time\": 32,\n      \"had_explanation\": false\n     }\n    ]\n   },\n   {\n    \"id\": 9,\n    \"questions\": [\n     {\n      \"id\": 4120,\n      \"answered_correctly\": false,\n      \"elapsed_time\": 23,\n      \"had_explanation\": false\n     }\n    ]\n   },\n   {\n    \"id\": 10,\n    \"questions\": [\n     {\n      \"id\": 4696,\n      \"answered_correctly\": false,\n      \"elapsed_time\": 27,\n      \"had_explanation\": false\n     }\n    ]\n   },\n   {\n    \"id\": 11,\n    \"questions\": [\n     {\n      \"id\": 6116,\n      \"answered_correctly\": true,\n      \"elapsed_time\": 14,\n      \"had_explanation\": false\n     }\n    ]\n   },\n   {\n    \"id\": 12,\n    \"questions\": [\n     {\n      \"id\": 6173,\n      \"answered_correctly\": false,\n      \"elapsed_time\": 17,\n      \"had_explanation\": false\n     }\n    ]\n   },\n   {\n    \"id\": 13,\n    \"questions\": [\n     {\n      \"id\": 6370,\n      \"answered_correctly\": false,\n      \"elapsed_time\": 7,\n      \"had_explanation\": false\n     }\n    ]\n   },\n   {\n    \"id\": 14,\n    \"questions\": [\n     {\n      \"id\": 6909,\n      \"answered_correctly\": true,\n      \"elapsed_time\": 6.5,\n      \"had_explanation\": false\n     },\n     {\n      \"id\": 6910,\n      \"answered_correctly\": false,\n      \"elapsed_time\": 6.5,\n      \"had_explanation\": false\n     },\n     {\n      \"id\": 6908,\n      \"answered_correctly\": false,\n      \"elapsed_time\": 6.5,\n      \"had_explanation\": false\n     },\n     {\n      \"id\": 6911,\n      \"answered_correctly\": false,\n      \"elapsed_time\": 6.5,\n      \"had_explanation\": false\n     }\n    ]\n   },\n   {\n    \"id\": 15,\n    \"questions\": [\n     {\n      \"id\": 7218,\n      \"answered_correctly\": false,\n      \"elapsed_time\": 0.0,\n      \"had_explanation\": null\n     },\n     {\n      \"id\": 7216,\n      \"answered_correctly\": false,\n      \"elapsed_time\": 0.0,\n      \"had_explanation\": null\n     },\n     {\n      \"id\": 7217,\n      \"answered_correctly\": false,\n      \"elapsed_time\": 0.0,\n      \"had_explanation\": null\n     },\n     {\n      \"id\": 7219,\n      \"answered_correctly\": false,\n      \"elapsed_time\": 0.0,\n      \"had_explanation\": null\n     }\n    ]\n   }\n  ]\n }\n]\n"
     ]
    }
   ],
   "source": [
    "# Test - print the two first users as json\n",
    "users = users[0:2]\n",
    "print(json.dumps(users, default=lambda x: x.__dict__, indent=True))"
   ]
  },
  {
   "cell_type": "code",
   "execution_count": 6,
   "metadata": {},
   "outputs": [],
   "source": [
    "with open('data/slim_train_shifted.csv', 'w') as file:\n",
    "    file.write('user_id,question_id,bundle_id,answered_correctly,elapsed_time,had_explanation\\n')\n",
    "    for user in users:\n",
    "        for bundle in user.bundles:\n",
    "            for question in bundle.questions:\n",
    "                file.write(f'{user.id},{question.id},{bundle.id},{1 if question.answered_correctly else 0},{question.elapsed_time},{-1 if question.had_explanation is None else 1 if question.had_explanation else 0}\\n')"
   ]
  }
 ]
}