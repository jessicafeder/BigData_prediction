{
 "metadata": {
  "language_info": {
   "codemirror_mode": {
    "name": "ipython",
    "version": 3
   },
   "file_extension": ".py",
   "mimetype": "text/x-python",
   "name": "python",
   "nbconvert_exporter": "python",
   "pygments_lexer": "ipython3",
   "version": "3.8.5"
  },
  "orig_nbformat": 2,
  "kernelspec": {
   "name": "python385jvsc74a57bd02efabeff3d88b4fed4541d07ce028a3ba12f36779da6a6ecd8c4c78056155e5c",
   "display_name": "Python 3.8.5 64-bit ('base': conda)"
  }
 },
 "nbformat": 4,
 "nbformat_minor": 2,
 "cells": [
  {
   "cell_type": "code",
   "execution_count": null,
   "metadata": {},
   "outputs": [],
   "source": [
    "import pandas as pd\n",
    "from matplotlib import pyplot as plt"
   ]
  },
  {
   "source": [
    "## Answer rate by bundle"
   ],
   "cell_type": "markdown",
   "metadata": {}
  },
  {
   "cell_type": "code",
   "execution_count": null,
   "metadata": {},
   "outputs": [],
   "source": [
    "df = pd.read_csv('data/analyze/correct_answers_by_bundle.csv')\n",
    "\n",
    "frames = df.to_dict('list')\n",
    "b_ids = frames['BundleId']\n",
    "acs = frames['AnsweredCorrectly']\n",
    "\n",
    "plt.plot(b_ids, acs, label='answered correctly rate by bundle')\n",
    "plt.xlabel('Bundle')\n",
    "plt.ylabel('Answered Correctly (%)')\n",
    "plt.legend()\n",
    "plt.show()"
   ]
  },
  {
   "source": [
    "## Answer rate by elapsed time"
   ],
   "cell_type": "markdown",
   "metadata": {}
  },
  {
   "cell_type": "code",
   "execution_count": null,
   "metadata": {},
   "outputs": [],
   "source": [
    "df = pd.read_csv('data/analyze/correct_answers_by_elapsed_time.csv')\n",
    "\n",
    "frames = df.to_dict('list')\n",
    "ets = frames['ElapsedTime']\n",
    "acs = frames['CorrectAnswers']\n",
    "\n",
    "plt.plot(ets, acs, label='Answered Correctly')\n",
    "plt.xlabel('Elapsed Time (seconds)')\n",
    "plt.ylabel('Rate (%)')\n",
    "plt.legend()\n",
    "plt.show()"
   ]
  },
  {
   "source": [
    "## Answer rate by had explanation"
   ],
   "cell_type": "markdown",
   "metadata": {}
  },
  {
   "cell_type": "code",
   "execution_count": null,
   "metadata": {},
   "outputs": [],
   "source": [
    "import math\n",
    "\n",
    "df = pd.read_csv('data/analyze/correct_answers_by_had_explanation.csv')\n",
    "\n",
    "frames = df.to_dict('list')\n",
    "hes = frames['HadExplanation']\n",
    "acs = frames['CorrectAnswers']\n",
    "\n",
    "fig = plt.figure()\n",
    "ax = fig.add_axes([0,0,1,1])\n",
    "keys = ['N/A' if math.isnan(bar) else 'yes' if bar==1 else 'no' for bar in hes]\n",
    "values = acs\n",
    "ax.bar(keys, values)\n",
    "\n",
    "plt.xlabel('Had Explanation')\n",
    "plt.ylabel('Answered Correctly (%)')\n",
    "plt.show()"
   ]
  }
 ]
}